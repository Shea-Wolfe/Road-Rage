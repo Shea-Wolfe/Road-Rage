{
 "cells": [
  {
   "cell_type": "code",
   "execution_count": 1,
   "metadata": {
    "collapsed": true
   },
   "outputs": [],
   "source": [
    "import numpy as np\n",
    "import random\n",
    "import statistics as st\n",
    "import matplotlib.pyplot as plt\n",
    "import math"
   ]
  },
  {
   "cell_type": "code",
   "execution_count": 2,
   "metadata": {
    "collapsed": true
   },
   "outputs": [],
   "source": [
    "%matplotlib inline"
   ]
  },
  {
   "cell_type": "code",
   "execution_count": 335,
   "metadata": {
    "collapsed": false
   },
   "outputs": [],
   "source": [
    "class Car():\n",
    "    \n",
    "    def __init__(self, location, current_speed=25):\n",
    "        self.max_s = 33 #In meters per second truncating 33.333 to 33\n",
    "        self.length = 5 #In meters\n",
    "        self.cs = current_speed #current speed\n",
    "        self.location = location\n",
    "        self.distance = 0\n",
    "    \n",
    "    \n",
    "    \n",
    "    def change_speed(self):\n",
    "        choice = random.random()\n",
    "        if choice < .1:\n",
    "            self.cs -= 2\n",
    "        elif self.cs == self.max_s:\n",
    "            pass\n",
    "        else:\n",
    "            self.cs += 2\n",
    "            if self.cs > self.max_s:\n",
    "                self.cs = self.max_s\n",
    "                \n",
    "            \n",
    "    def drive(self):\n",
    "        self.location += self.cs\n",
    "      \n",
    "        "
   ]
  },
  {
   "cell_type": "code",
   "execution_count": 427,
   "metadata": {
    "collapsed": false
   },
   "outputs": [],
   "source": [
    "class Road():\n",
    "    \n",
    "    def __init__(self):\n",
    "        pass\n",
    "    \n",
    "    def pop_road(self):\n",
    "        self.cars = [Car(int((n*33.33)+4)) for n in range(30)]\n",
    "    \n",
    "      \n",
    "    def get_car_locations(self, car):\n",
    "        return self.cars[car]\n",
    "    \n",
    "    def check_speed(self, car):\n",
    "        if car == 29:\n",
    "            pass\n",
    "        elif (self.cars[car].location + self.cars[car].cs) >= (self.cars[car+1].location - 4):\n",
    "            self.cars[car].cs = self.cars[car+1].cs\n",
    "    \n",
    "    def crash(self, car):\n",
    "        if car == 29:\n",
    "            pass\n",
    "        elif (self.cars[car].location + self.cars[car].cs) >= (self.cars[car+1].cs + self.cars[car+1].location - 4):\n",
    "            self.cars[car].location = self.cars[car+1].cs + self.cars[car+1].location - 5\n",
    "            self.cars[car].cs = 0\n",
    "        else:\n",
    "            pass\n",
    "\n",
    "        "
   ]
  },
  {
   "cell_type": "code",
   "execution_count": 431,
   "metadata": {
    "collapsed": false
   },
   "outputs": [],
   "source": [
    "class Simulation():\n",
    "    \n",
    "    def __init__(self):\n",
    "        self.road = Road()\n",
    "        self.road.pop_road()\n",
    "        self.crash = 0\n",
    "        self.car_speed = []\n",
    "        self.all_speeds = []\n",
    "        self.car_locations = []\n",
    "        self.all_locations = []\n",
    "        \n",
    "    \n",
    "    def tick(self):\n",
    "        for car in range(30):\n",
    "            self.road.cars[car].change_speed()   #Car decides to speed up or slow down.\n",
    "            self.road.check_speed(car) #Car checks if there's a car in its \"zone of danger\"\n",
    "        for car in range(30):\n",
    "            self.road.crash(car) #Checks for crashes now that we've set the data\n",
    "            if self.road.cars[car].cs == 0:\n",
    "                self.crash += 1\n",
    "            self.road.cars[car].drive() #actually makes dem boats go\n",
    "            self.car_speed.append(self.road.cars[car].cs)\n",
    "            if self.road.cars[car].location > 1000: \n",
    "                self.road.cars.insert(0,Car(0,self.road.cars[car].cs))\n",
    "                del self.road.cars[car] #Gets rid of cars that drive off the end\n",
    "                self.car_locations.append(self.road.cars[0].location)\n",
    "            else:\n",
    "                self.car_locations.append(self.road.cars[car].location)\n",
    "        \n",
    "        self.all_speeds.append(self.car_speed)\n",
    "        self.all_locations.append(self.car_locations)\n",
    "        self.car_speed = []\n",
    "        self.car_locations = []\n",
    "                \n",
    "        #unfinished\n",
    "        "
   ]
  },
  {
   "cell_type": "code",
   "execution_count": 432,
   "metadata": {
    "collapsed": false
   },
   "outputs": [],
   "source": [
    "sim = Simulation()"
   ]
  },
  {
   "cell_type": "code",
   "execution_count": 415,
   "metadata": {
    "collapsed": false
   },
   "outputs": [],
   "source": [
    "sims = [Simulation() for x in range(10)]\n",
    "for sim in sims:\n",
    "    [sim.tick() for _ in range(60)]"
   ]
  },
  {
   "cell_type": "code",
   "execution_count": 416,
   "metadata": {
    "collapsed": false
   },
   "outputs": [],
   "source": [
    "speeds = np.array([sim.all_speeds for sim in sims])"
   ]
  },
  {
   "cell_type": "code",
   "execution_count": 420,
   "metadata": {
    "collapsed": false
   },
   "outputs": [],
   "source": [
    "this = np.array([sim.all_speeds for sim in sims])"
   ]
  },
  {
   "cell_type": "code",
   "execution_count": 424,
   "metadata": {
    "collapsed": false
   },
   "outputs": [
    {
     "name": "stdout",
     "output_type": "stream",
     "text": [
      "26.3432222222\n",
      "4.09568589501\n"
     ]
    }
   ],
   "source": [
    "print(np.mean(this))\n",
    "print(np.std(this))"
   ]
  },
  {
   "cell_type": "code",
   "execution_count": 425,
   "metadata": {
    "collapsed": false
   },
   "outputs": [
    {
     "data": {
      "text/plain": [
       "(10, 60, 30)"
      ]
     },
     "execution_count": 425,
     "metadata": {},
     "output_type": "execute_result"
    }
   ],
   "source": [
    "np.shape(this)"
   ]
  },
  {
   "cell_type": "code",
   "execution_count": 436,
   "metadata": {
    "collapsed": false
   },
   "outputs": [],
   "source": [
    "graph = np.array(sim.all_locations).astype('float32')"
   ]
  },
  {
   "cell_type": "code",
   "execution_count": 443,
   "metadata": {
    "collapsed": false
   },
   "outputs": [
    {
     "name": "stdout",
     "output_type": "stream",
     "text": [
      "[[  31.   60.   97. ...,  930.  964.  997.]\n",
      " [  54.   85.  124. ...,  955.  991.    0.]\n",
      " [  31.   79.  112. ...,  949.  982.    0.]\n",
      " ..., \n",
      " [  31.   64.   97. ...,  720.  743.    0.]\n",
      " [  31.   64.   97. ...,  720.  743.    0.]\n",
      " [  31.   64.   97. ...,  720.  743.    0.]]\n"
     ]
    },
    {
     "data": {
      "text/plain": [
       "<matplotlib.image.AxesImage at 0x116882a90>"
      ]
     },
     "execution_count": 443,
     "metadata": {},
     "output_type": "execute_result"
    },
    {
     "data": {
      "image/png": "[encoded data removed]",
      "text/plain": [
       "<matplotlib.figure.Figure at 0x113bc5550>"
      ]
     },
     "metadata": {},
     "output_type": "display_data"
    }
   ],
   "source": [
    "\n",
    "print(graph)\n",
    "\n",
    "plt.figure(figsize=(20, 20)) # size is in \"inches\"\n",
    "plt.imshow(graph, cmap='gray', interpolation='nearest')"
   ]
  },
  {
   "cell_type": "code",
   "execution_count": 171,
   "metadata": {
    "collapsed": true
   },
   "outputs": [],
   "source": [
    "list1.insert(0,6)"
   ]
  },
  {
   "cell_type": "code",
   "execution_count": 172,
   "metadata": {
    "collapsed": false
   },
   "outputs": [
    {
     "data": {
      "text/plain": [
       "[6, 1, 2, 3, 4, 5]"
      ]
     },
     "execution_count": 172,
     "metadata": {},
     "output_type": "execute_result"
    }
   ],
   "source": [
    "list1"
   ]
  },
  {
   "cell_type": "code",
   "execution_count": 389,
   "metadata": {
    "collapsed": false
   },
   "outputs": [
    {
     "data": {
      "text/plain": [
       "-1"
      ]
     },
     "execution_count": 389,
     "metadata": {},
     "output_type": "execute_result"
    }
   ],
   "source": [
    "- 0 - 1"
   ]
  },
  {
   "cell_type": "code",
   "execution_count": null,
   "metadata": {
    "collapsed": true
   },
   "outputs": [],
   "source": []
  }
 ],
 "metadata": {
  "kernelspec": {
   "display_name": "Python 3",
   "language": "python",
   "name": "python3"
  },
  "language_info": {
   "codemirror_mode": {
    "name": "ipython",
    "version": 3
   },
   "file_extension": ".py",
   "mimetype": "text/x-python",
   "name": "python",
   "nbconvert_exporter": "python",
   "pygments_lexer": "ipython3",
   "version": "3.4.3"
  }
 },
 "nbformat": 4,
 "nbformat_minor": 0
}
