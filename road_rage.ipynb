{
 "cells": [
  {
   "cell_type": "code",
   "execution_count": 1,
   "metadata": {
    "collapsed": true
   },
   "outputs": [],
   "source": [
    "import numpy as np\n",
    "import random\n",
    "import statistics as st\n",
    "import matplotlib.pyplot as plt\n",
    "import math"
   ]
  },
  {
   "cell_type": "code",
   "execution_count": 2,
   "metadata": {
    "collapsed": true
   },
   "outputs": [],
   "source": [
    "%matplotlib inline"
   ]
  },
  {
   "cell_type": "code",
   "execution_count": null,
   "metadata": {
    "collapsed": true
   },
   "outputs": [],
   "source": [
    "class Car():\n",
    "    \n",
    "    __init__(self):\n",
    "        self.max_s = 33 #In meters per second truncating 33.333 to 33\n",
    "        self.length = 5 #In meters\n",
    "        self.current_speed = 20\n",
    "        self.distance = 0\n",
    "        \n",
    "    def change_speed():\n",
    "        choice = random.random()\n",
    "        if choice < .1:\n",
    "            self.current_speed -= 2\n",
    "        elif self.current_speed == self.max_s:\n",
    "            pass\n",
    "        else:\n",
    "            self.current_speed += 2\n",
    "            if self.current_speed > self.max_s:\n",
    "                self.current_speed = self.max_s\n",
    "        \n",
    "            \n",
    "    \n",
    "        "
   ]
  }
 ],
 "metadata": {
  "kernelspec": {
   "display_name": "Python 3",
   "language": "python",
   "name": "python3"
  },
  "language_info": {
   "codemirror_mode": {
    "name": "ipython",
    "version": 3
   },
   "file_extension": ".py",
   "mimetype": "text/x-python",
   "name": "python",
   "nbconvert_exporter": "python",
   "pygments_lexer": "ipython3",
   "version": "3.4.3"
  }
 },
 "nbformat": 4,
 "nbformat_minor": 0
}
