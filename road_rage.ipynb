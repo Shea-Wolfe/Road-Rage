{
 "cells": [
  {
   "cell_type": "code",
   "execution_count": 1,
   "metadata": {
    "collapsed": true
   },
   "outputs": [],
   "source": [
    "import numpy as np\n",
    "import random\n",
    "import statistics as st\n",
    "import matplotlib.pyplot as plt\n",
    "import math"
   ]
  },
  {
   "cell_type": "code",
   "execution_count": 2,
   "metadata": {
    "collapsed": true
   },
   "outputs": [],
   "source": [
    "%matplotlib inline"
   ]
  },
  {
   "cell_type": "code",
   "execution_count": 120,
   "metadata": {
    "collapsed": false
   },
   "outputs": [],
   "source": [
    "class Car():\n",
    "    \n",
    "    def __init__(self, n):\n",
    "        self.max_s = 33 #In meters per second truncating 33.333 to 33\n",
    "        self.length = 5 #In meters\n",
    "        self.current_speed = 20\n",
    "        self.location = int((n*33.333) + 4)\n",
    "        self.distance = 0\n",
    "    \n",
    "    \n",
    "    \n",
    "    def change_speed():\n",
    "        choice = random.random()\n",
    "        if choice < .1:\n",
    "            self.current_speed -= 2\n",
    "        elif self.current_speed == self.max_s:\n",
    "            pass\n",
    "        else:\n",
    "            self.current_speed += 2\n",
    "            if self.current_speed > self.max_s:\n",
    "                self.current_speed = self.max_s\n",
    "                \n",
    "            \n",
    "    def drive():\n",
    "        self.distance += self.current.speed\n",
    "        "
   ]
  },
  {
   "cell_type": "code",
   "execution_count": 124,
   "metadata": {
    "collapsed": false
   },
   "outputs": [],
   "source": [
    "class Road():\n",
    "    \n",
    "    def __init__(self):\n",
    "        pass\n",
    "    \n",
    "    def pop_road(self):\n",
    "        self.cars = [Car(n) for n in range(30)]\n",
    "        \n",
    "    def get_car_locations(self, car):\n",
    "        return self.cars[car]\n",
    "    \n",
    "    def check_speed(self, car):\n",
    "        if self.cars[car].location + self.cars[car]"
   ]
  },
  {
   "cell_type": "code",
   "execution_count": 116,
   "metadata": {
    "collapsed": true
   },
   "outputs": [],
   "source": [
    "class Simulation():\n",
    "    \n",
    "    def __init__(self):\n",
    "        road = Road()\n",
    "        road.pop_road()\n",
    "    \n",
    "    def tick(self):\n",
    "        for car in range(30):\n",
    "            road.cars[car].check\n",
    "        #unfinished\n",
    "        "
   ]
  },
  {
   "cell_type": "code",
   "execution_count": 125,
   "metadata": {
    "collapsed": false
   },
   "outputs": [],
   "source": [
    "H147 = Road()\n",
    "H147.pop_road()"
   ]
  },
  {
   "cell_type": "code",
   "execution_count": 126,
   "metadata": {
    "collapsed": false
   },
   "outputs": [
    {
     "name": "stdout",
     "output_type": "stream",
     "text": [
      "4\n",
      "37\n",
      "70\n",
      "103\n",
      "137\n",
      "170\n",
      "203\n",
      "237\n",
      "270\n",
      "303\n",
      "337\n",
      "370\n",
      "403\n",
      "437\n",
      "470\n",
      "503\n",
      "537\n",
      "570\n",
      "603\n",
      "637\n",
      "670\n",
      "703\n",
      "737\n",
      "770\n",
      "803\n",
      "837\n",
      "870\n",
      "903\n",
      "937\n",
      "970\n"
     ]
    },
    {
     "ename": "AttributeError",
     "evalue": "'Road' object has no attribute 'road'",
     "output_type": "error",
     "traceback": [
      "\u001b[0;31m---------------------------------------------------------------------------\u001b[0m",
      "\u001b[0;31mAttributeError\u001b[0m                            Traceback (most recent call last)",
      "\u001b[0;32m<ipython-input-126-0b86682397e8>\u001b[0m in \u001b[0;36m<module>\u001b[0;34m()\u001b[0m\n\u001b[1;32m      1\u001b[0m \u001b[0mH147\u001b[0m\u001b[0;34m.\u001b[0m\u001b[0mget_car_locations\u001b[0m\u001b[0;34m(\u001b[0m\u001b[0;34m)\u001b[0m\u001b[0;34m\u001b[0m\u001b[0m\n\u001b[0;32m----> 2\u001b[0;31m \u001b[0mprint\u001b[0m\u001b[0;34m(\u001b[0m\u001b[0mlen\u001b[0m\u001b[0;34m(\u001b[0m\u001b[0mH147\u001b[0m\u001b[0;34m.\u001b[0m\u001b[0mroad\u001b[0m\u001b[0;34m)\u001b[0m\u001b[0;34m)\u001b[0m\u001b[0;34m\u001b[0m\u001b[0m\n\u001b[0m",
      "\u001b[0;31mAttributeError\u001b[0m: 'Road' object has no attribute 'road'"
     ]
    }
   ],
   "source": [
    "H147.get_car_locations()\n",
    "print(len(H147.road))"
   ]
  },
  {
   "cell_type": "code",
   "execution_count": null,
   "metadata": {
    "collapsed": true
   },
   "outputs": [],
   "source": []
  }
 ],
 "metadata": {
  "kernelspec": {
   "display_name": "Python 3",
   "language": "python",
   "name": "python3"
  },
  "language_info": {
   "codemirror_mode": {
    "name": "ipython",
    "version": 3
   },
   "file_extension": ".py",
   "mimetype": "text/x-python",
   "name": "python",
   "nbconvert_exporter": "python",
   "pygments_lexer": "ipython3",
   "version": "3.4.3"
  }
 },
 "nbformat": 4,
 "nbformat_minor": 0
}
