{
 "cells": [
  {
   "cell_type": "code",
   "execution_count": 1,
   "metadata": {
    "collapsed": true
   },
   "outputs": [],
   "source": [
    "import numpy as np\n",
    "import random\n",
    "import statistics as st\n",
    "import matplotlib.pyplot as plt\n",
    "import math"
   ]
  },
  {
   "cell_type": "code",
   "execution_count": 2,
   "metadata": {
    "collapsed": true
   },
   "outputs": [],
   "source": [
    "%matplotlib inline"
   ]
  },
  {
   "cell_type": "code",
   "execution_count": 335,
   "metadata": {
    "collapsed": false
   },
   "outputs": [],
   "source": [
    "class Car():\n",
    "    \n",
    "    def __init__(self, location, current_speed=25):\n",
    "        self.max_s = 33 #In meters per second truncating 33.333 to 33\n",
    "        self.length = 5 #In meters\n",
    "        self.cs = current_speed #current speed\n",
    "        self.location = location\n",
    "        self.distance = 0\n",
    "    \n",
    "    \n",
    "    \n",
    "    def change_speed(self):\n",
    "        choice = random.random()\n",
    "        if choice < .1:\n",
    "            self.cs -= 2\n",
    "        elif self.cs == self.max_s:\n",
    "            pass\n",
    "        else:\n",
    "            self.cs += 2\n",
    "            if self.cs > self.max_s:\n",
    "                self.cs = self.max_s\n",
    "                \n",
    "            \n",
    "    def drive(self):\n",
    "        self.location += self.cs\n",
    "      \n",
    "        "
   ]
  },
  {
   "cell_type": "code",
   "execution_count": 336,
   "metadata": {
    "collapsed": false
   },
   "outputs": [],
   "source": [
    "class Road():\n",
    "    \n",
    "    def __init__(self):\n",
    "        pass\n",
    "    \n",
    "    def pop_road(self):\n",
    "        self.cars = [Car(int((n*33.33)+4)) for n in range(30)]\n",
    "    \n",
    "      \n",
    "    def get_car_locations(self, car):\n",
    "        return self.cars[car]\n",
    "    \n",
    "    def check_speed(self, car):\n",
    "        if car == 29:\n",
    "            pass\n",
    "        elif (self.cars[car].location + self.cars[car].cs) >= (self.cars[car+1].location - 4):\n",
    "            self.cars[car].cs = self.cars[car+1].cs\n",
    "    \n",
    "    def crash(self, car):\n",
    "        if car == 29:\n",
    "            pass\n",
    "        elif (self.cars[car].location + self.cars[car].cs) >= (self.cars[car+1].cs + self.cars[car+1].location - 4):\n",
    "            self.cars[car].location = self.cars[car+1].cs + self.cars[car+1].location - 5\n",
    "            self.cars[car].cs = 0\n",
    "        else:\n",
    "            pass\n",
    "\n",
    "        "
   ]
  },
  {
   "cell_type": "code",
   "execution_count": 337,
   "metadata": {
    "collapsed": false
   },
   "outputs": [],
   "source": [
    "class Simulation():\n",
    "    \n",
    "    def __init__(self):\n",
    "        self.road = Road()\n",
    "        self.road.pop_road()\n",
    "        self.crash = 0\n",
    "        self.speeds = \n",
    "        \n",
    "    \n",
    "    def tick(self):\n",
    "        for car in range(30):\n",
    "            self.road.cars[car].change_speed()   #Car decides to speed up or slow down.\n",
    "            self.road.check_speed(car) #Car checks if there's a car in its \"zone of danger\"\n",
    "        for car in range(30):\n",
    "            self.road.crash(car) #Checks for crashes now that we've set the data\n",
    "            if self.road.cars[car].cs == 0:\n",
    "                self.crash += 1\n",
    "            self.road.cars[car].drive() #actually makes dem boats go\n",
    "            \n",
    "            #TODO Record every car with speed 0\n",
    "            if self.road.cars[car].location > 1000: \n",
    "                self.road.cars.insert(0,Car(0,self.road.cars[car].cs))\n",
    "                del self.road.cars[car] #Gets rid of cars that drive off the end\n",
    "                \n",
    "        \n",
    "                \n",
    "                \n",
    "        #unfinished\n",
    "        "
   ]
  },
  {
   "cell_type": "code",
   "execution_count": 356,
   "metadata": {
    "collapsed": false
   },
   "outputs": [],
   "source": [
    "sim = Simulation()"
   ]
  },
  {
   "cell_type": "code",
   "execution_count": 345,
   "metadata": {
    "collapsed": false
   },
   "outputs": [],
   "source": [
    "sim.tick()"
   ]
  },
  {
   "cell_type": "code",
   "execution_count": 357,
   "metadata": {
    "collapsed": false
   },
   "outputs": [
    {
     "data": {
      "text/plain": [
       "[None,\n",
       " None,\n",
       " None,\n",
       " None,\n",
       " None,\n",
       " None,\n",
       " None,\n",
       " None,\n",
       " None,\n",
       " None,\n",
       " None,\n",
       " None,\n",
       " None,\n",
       " None,\n",
       " None,\n",
       " None,\n",
       " None,\n",
       " None,\n",
       " None,\n",
       " None,\n",
       " None,\n",
       " None,\n",
       " None,\n",
       " None,\n",
       " None,\n",
       " None,\n",
       " None,\n",
       " None,\n",
       " None,\n",
       " None,\n",
       " None,\n",
       " None,\n",
       " None,\n",
       " None,\n",
       " None,\n",
       " None,\n",
       " None,\n",
       " None,\n",
       " None,\n",
       " None,\n",
       " None,\n",
       " None,\n",
       " None,\n",
       " None,\n",
       " None,\n",
       " None,\n",
       " None,\n",
       " None,\n",
       " None,\n",
       " None,\n",
       " None,\n",
       " None,\n",
       " None,\n",
       " None,\n",
       " None,\n",
       " None,\n",
       " None,\n",
       " None,\n",
       " None,\n",
       " None]"
      ]
     },
     "execution_count": 357,
     "metadata": {},
     "output_type": "execute_result"
    }
   ],
   "source": [
    "[sim.tick() for _ in range(60)]"
   ]
  },
  {
   "cell_type": "code",
   "execution_count": 349,
   "metadata": {
    "collapsed": false
   },
   "outputs": [],
   "source": [
    "data = [sim.crash for _ in range(10)]"
   ]
  },
  {
   "cell_type": "code",
   "execution_count": 366,
   "metadata": {
    "collapsed": false
   },
   "outputs": [
    {
     "name": "stdout",
     "output_type": "stream",
     "text": [
      "33\n",
      "31\n",
      "33\n",
      "33\n",
      "33\n",
      "33\n",
      "27\n",
      "23\n",
      "21\n",
      "23\n",
      "25\n",
      "27\n",
      "29\n",
      "31\n",
      "21\n",
      "23\n",
      "17\n",
      "19\n",
      "21\n",
      "23\n",
      "21\n",
      "23\n",
      "25\n",
      "27\n",
      "25\n",
      "27\n",
      "29\n",
      "31\n",
      "29\n",
      "33\n"
     ]
    },
    {
     "data": {
      "text/plain": [
       "[None,\n",
       " None,\n",
       " None,\n",
       " None,\n",
       " None,\n",
       " None,\n",
       " None,\n",
       " None,\n",
       " None,\n",
       " None,\n",
       " None,\n",
       " None,\n",
       " None,\n",
       " None,\n",
       " None,\n",
       " None,\n",
       " None,\n",
       " None,\n",
       " None,\n",
       " None,\n",
       " None,\n",
       " None,\n",
       " None,\n",
       " None,\n",
       " None,\n",
       " None,\n",
       " None,\n",
       " None,\n",
       " None,\n",
       " None]"
      ]
     },
     "execution_count": 366,
     "metadata": {},
     "output_type": "execute_result"
    }
   ],
   "source": [
    "[print(sim.road.cars[car].cs) for car in range(30)]"
   ]
  },
  {
   "cell_type": "code",
   "execution_count": 353,
   "metadata": {
    "collapsed": false
   },
   "outputs": [
    {
     "name": "stdout",
     "output_type": "stream",
     "text": [
      "[33, 27, 29, 31, 33, 33, 29, 29, 27, 29, 31, 27, 29, 23, 21, 19, 17, 19, 21, 23, 25, 23, 25, 27, 25, 27, 29, 31, 19, 33]\n"
     ]
    }
   ],
   "source": []
  },
  {
   "cell_type": "code",
   "execution_count": 169,
   "metadata": {
    "collapsed": false
   },
   "outputs": [
    {
     "name": "stdout",
     "output_type": "stream",
     "text": [
      "29\n",
      "28\n",
      "27\n",
      "26\n",
      "25\n",
      "24\n",
      "23\n",
      "22\n",
      "21\n",
      "20\n",
      "19\n",
      "18\n",
      "17\n",
      "16\n",
      "15\n",
      "14\n",
      "13\n",
      "12\n",
      "11\n",
      "10\n",
      "9\n",
      "8\n",
      "7\n",
      "6\n",
      "5\n",
      "4\n",
      "3\n",
      "2\n",
      "1\n",
      "0\n"
     ]
    }
   ],
   "source": [
    "for thing in range(29, -1, -1):\n",
    "    print(thing)"
   ]
  },
  {
   "cell_type": "code",
   "execution_count": 170,
   "metadata": {
    "collapsed": true
   },
   "outputs": [],
   "source": [
    "list1 = [1,2,3,4,5]"
   ]
  },
  {
   "cell_type": "code",
   "execution_count": 171,
   "metadata": {
    "collapsed": true
   },
   "outputs": [],
   "source": [
    "list1.insert(0,6)"
   ]
  },
  {
   "cell_type": "code",
   "execution_count": 172,
   "metadata": {
    "collapsed": false
   },
   "outputs": [
    {
     "data": {
      "text/plain": [
       "[6, 1, 2, 3, 4, 5]"
      ]
     },
     "execution_count": 172,
     "metadata": {},
     "output_type": "execute_result"
    }
   ],
   "source": [
    "list1"
   ]
  },
  {
   "cell_type": "code",
   "execution_count": null,
   "metadata": {
    "collapsed": true
   },
   "outputs": [],
   "source": []
  }
 ],
 "metadata": {
  "kernelspec": {
   "display_name": "Python 3",
   "language": "python",
   "name": "python3"
  },
  "language_info": {
   "codemirror_mode": {
    "name": "ipython",
    "version": 3
   },
   "file_extension": ".py",
   "mimetype": "text/x-python",
   "name": "python",
   "nbconvert_exporter": "python",
   "pygments_lexer": "ipython3",
   "version": "3.4.3"
  }
 },
 "nbformat": 4,
 "nbformat_minor": 0
}
