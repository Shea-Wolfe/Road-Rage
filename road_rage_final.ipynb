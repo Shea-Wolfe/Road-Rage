{
 "cells": [
  {
   "cell_type": "code",
   "execution_count": 1,
   "metadata": {
    "collapsed": true
   },
   "outputs": [],
   "source": [
    "from road_rage_classes import *"
   ]
  },
  {
   "cell_type": "code",
   "execution_count": 2,
   "metadata": {
    "collapsed": true
   },
   "outputs": [],
   "source": [
    "%matplotlib inline"
   ]
  },
  {
   "cell_type": "code",
   "execution_count": 3,
   "metadata": {
    "collapsed": true
   },
   "outputs": [],
   "source": [
    "sims = [Simulation(30) for _ in range(1000)]\n",
    "for sim in sims:\n",
    "    [sim.tick() for _ in range(60)]\n",
    "low_graph = [Simulation(28) for _ in range(1000)]\n",
    "for sim in low_graph:\n",
    "    [sim.tick() for _ in range(60)]\n",
    "high_graph = [Simulation(32) for _ in range(1000)]\n",
    "for sim in high_graph:\n",
    "    [sim.tick() for _ in range(60)]"
   ]
  },
  {
   "cell_type": "code",
   "execution_count": 5,
   "metadata": {
    "collapsed": false
   },
   "outputs": [],
   "source": [
    "right_speeds = np.array([st.mean(sim.final_speeds) for sim in sims])\n",
    "low_speeds = np.array([st.mean(sim.final_speeds) for sim in low_graph])\n",
    "high_speeds = np.array([st.mean(sim.final_speeds) for sim in high_graph])"
   ]
  },
  {
   "cell_type": "code",
   "execution_count": 20,
   "metadata": {
    "collapsed": false
   },
   "outputs": [],
   "source": [
    "right_limit = np.mean(right_speeds) + np.std(right_speeds)\n",
    "low_limit = np.mean(low_speeds) + np.std(low_speeds)\n",
    "high_limit = np.mean(high_speeds) + np.std(high_speeds)"
   ]
  },
  {
   "cell_type": "code",
   "execution_count": 29,
   "metadata": {
    "collapsed": false
   },
   "outputs": [],
   "source": [
    "right_limit = round(right_limit, 2)\n",
    "low_limit = round(low_limit, 2)\n",
    "high_limit = round(high_limit,2)"
   ]
  },
  {
   "cell_type": "code",
   "execution_count": 33,
   "metadata": {
    "collapsed": false
   },
   "outputs": [
    {
     "data": {
      "text/plain": [
       "<function matplotlib.pyplot.show>"
      ]
     },
     "execution_count": 33,
     "metadata": {},
     "output_type": "execute_result"
    },
    {
     "data": {
      "image/png": "[encoded data removed]",
      "text/plain": [
       "<matplotlib.figure.Figure at 0x1154c2048>"
      ]
     },
     "metadata": {},
     "output_type": "display_data"
    }
   ],
   "source": [
    "plt.boxplot([right_speeds, low_speeds, high_speeds], labels=['30, {}'.format(right_limit), '28, {}'.format(low_limit), '32, {}'.format(high_limit)])\n",
    "plt.show"
   ]
  },
  {
   "cell_type": "markdown",
   "metadata": {},
   "source": [
    "# Results:\n",
    "\n",
    "In the boxplot above you can see the three speed limits tested.\n",
    "1. The number on the left is the speed limit that was tested\n",
    "2. The number on the right is the first standard deviation over the mean of speeds on that test.\n",
    "3. As the suggested speed limit was equal to the first standard deviation over the mean this graph clearly shows that the speed limit should be set at somewhere between 30 and 31 m/s, or between 108 and 110 km/h."
   ]
  },
  {
   "cell_type": "code",
   "execution_count": 34,
   "metadata": {
    "collapsed": true
   },
   "outputs": [],
   "source": [
    "sim = Simulation(30)\n",
    "[sim.tick() for _ in range(60)]\n",
    "car_graph = np.array(sim.all_locations).astype('float32')"
   ]
  },
  {
   "cell_type": "code",
   "execution_count": 64,
   "metadata": {
    "collapsed": false
   },
   "outputs": [
    {
     "data": {
      "image/png": "[encoded data removed]",
      "text/plain": [
       "<matplotlib.figure.Figure at 0x1153b9860>"
      ]
     },
     "metadata": {},
     "output_type": "display_data"
    }
   ],
   "source": [
    "plt.figure(figsize=(40, 40)) # size is in \"inches\"\n",
    "plt.imshow((car_graph), cmap='gray', interpolation='nearest')\n",
    "plt.show()"
   ]
  },
  {
   "cell_type": "markdown",
   "metadata": {},
   "source": [
    "# Example of traffic\n",
    "\n",
    "In the above graph you can see an example of traffic over a 60 second period of time.\n",
    "\n",
    "1. Each dash horizontally represents a single car.\n",
    "2. Each tick verically represents a single second.\n",
    "3.  When it seems like cars aren't moving, it's actually just the car behind them moving at the same speed and taking their place.\n",
    "4. The data set was a single run with a speed limit of 30m/s"
   ]
  },
  {
   "cell_type": "code",
   "execution_count": null,
   "metadata": {
    "collapsed": true
   },
   "outputs": [],
   "source": []
  }
 ],
 "metadata": {
  "kernelspec": {
   "display_name": "Python 3",
   "language": "python",
   "name": "python3"
  },
  "language_info": {
   "codemirror_mode": {
    "name": "ipython",
    "version": 3
   },
   "file_extension": ".py",
   "mimetype": "text/x-python",
   "name": "python",
   "nbconvert_exporter": "python",
   "pygments_lexer": "ipython3",
   "version": "3.4.3"
  }
 },
 "nbformat": 4,
 "nbformat_minor": 0
}
